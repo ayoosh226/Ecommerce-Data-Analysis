{
  "nbformat": 4,
  "nbformat_minor": 0,
  "metadata": {
    "colab": {
      "provenance": [],
      "authorship_tag": "ABX9TyMY/zCPii0NOBt908MMWBMO",
      "include_colab_link": true
    },
    "kernelspec": {
      "name": "python3",
      "display_name": "Python 3"
    },
    "language_info": {
      "name": "python"
    }
  },
  "cells": [
    {
      "cell_type": "markdown",
      "metadata": {
        "id": "view-in-github",
        "colab_type": "text"
      },
      "source": [
        "<a href=\"https://colab.research.google.com/github/ayoosh226/Ecommerce-Data-Analysis/blob/main/code.ipynb\" target=\"_parent\"><img src=\"https://colab.research.google.com/assets/colab-badge.svg\" alt=\"Open In Colab\"/></a>"
      ]
    },
    {
      "cell_type": "code",
      "execution_count": 697,
      "metadata": {
        "id": "sgkFehL6_QBl"
      },
      "outputs": [],
      "source": [
        "import pandas as pd\n",
        "import numpy as np\n",
        "import re"
      ]
    },
    {
      "cell_type": "code",
      "source": [
        "flipkart= pd.read_csv('/content/smartphones - smartphones.csv')"
      ],
      "metadata": {
        "id": "CiYw56q9_YaT"
      },
      "execution_count": 698,
      "outputs": []
    },
    {
      "cell_type": "code",
      "source": [
        "flipkart.columns"
      ],
      "metadata": {
        "colab": {
          "base_uri": "https://localhost:8080/"
        },
        "id": "DsHhbShW5uEv",
        "outputId": "704308ce-7cdb-4350-b363-e137d7237411"
      },
      "execution_count": 699,
      "outputs": [
        {
          "output_type": "execute_result",
          "data": {
            "text/plain": [
              "Index(['model', 'price', 'rating', 'sim', 'processor', 'ram', 'battery',\n",
              "       'display', 'camera', 'card', 'os'],\n",
              "      dtype='object')"
            ]
          },
          "metadata": {},
          "execution_count": 699
        }
      ]
    },
    {
      "cell_type": "markdown",
      "source": [
        "# Summary for data\n",
        "\n",
        "This smart mobile phones dataset contains 1,021 rows and 11 columns, providing detailed specifications of smartphones from multiple brands. The dataset covers essential aspects such as model, price, ratings, SIM and network support, processor details, RAM and storage, battery capacity, display specifications, camera configurations, memory card support, and operating system version. It offers a structured snapshot of smartphone features and pricing,"
      ],
      "metadata": {
        "id": "PRR4TgXjOXfO"
      }
    },
    {
      "cell_type": "markdown",
      "source": [
        "# Column Descriptions\n",
        "\n",
        "1. `model`:- Name of the smartphone, including brand and series/model.\n",
        "2. `price`:- Price of the phone (in INR).\n",
        "3. `raing`:- Overall customer rating of the phone (out of 100).\n",
        "4. `sim`:- Information about SIM support, network types (3G/4G/5G), VoLTE, Wi-Fi, NFC, and connectivity options.\n",
        "5. `processor`:- Details about the chipset, number of cores, and clock speed of the processor.\n",
        "6. `ram`:- Information on RAM size and inbuilt storage (ROM).\n",
        "7. `battery`:- Battery capacity (mAh), charging speed (watts), and fast-charging support.\n",
        "8. `display`:- Display size, resolution, refresh rate, and type of notch/punch-hole.\n",
        "9. `camera`:- Camera setup including rear and front cameras with megapixel details.\n",
        "10. `card`:- Memory card support availability and maximum expandable storage.\n",
        "11. `os`:-Operating system version of the device (e.g., Android v13, iOS v16).\n"
      ],
      "metadata": {
        "id": "5zhy-v6KOYb8"
      }
    },
    {
      "cell_type": "markdown",
      "source": [
        "# 📊 Data Assessing\n",
        "\n",
        "---\n",
        "\n",
        "## ✅ Quality Issues  \n",
        "(problems with accuracy, completeness, validity, consistency)\n",
        "\n",
        "1. **`model`** – brand names written in inconsistent formats, *(consistency)*  \n",
        "2. **`price`** – contains unnecessary **₹** symbol *(validity)*  \n",
        "3. **`price`** – contains commas in numeric values *(validity)*  \n",
        "4. **`price`** – outlier value (e.g., Namotel listed at ₹99) *(accuracy)*  \n",
        "5. **`rating`** – missing values *(completeness)*  \n",
        "6. **`processor`** – incorrect values for some Samsung phones (rows: 642, 647, 649, …) *(validity)*  \n",
        "7. Non-phone device (`iPod`, row 756) present *(validity)*  \n",
        "8. **`ram`** – incorrect values in multiple rows *(validity)*  \n",
        "9. **`battery`** – incorrect or incomplete values in multiple rows *(validity)*  \n",
        "10. **`display`** – sometimes refresh rate missing *(completeness)*  \n",
        "11. **`display`** – incorrect values in multiple rows *(validity)*  \n",
        "12. Foldable phones have scattered or inconsistent info *(validity)*  \n",
        "13. **`camera`** – uses inconsistent words (“Dual”, “Triple”, “Quad”), front & rear separated by **&** *(consistency)*  \n",
        "14. **`camera`** – incorrect values in many rows *(validity)*  \n",
        "15. **`card`** – sometimes contains info about OS or Camera *(validity)*  \n",
        "16. **`os`** – sometimes contains info about Bluetooth/FM radio *(validity)*  \n",
        "17. **`os`** – incorrect values in rows (324, 378) *(validity)*  \n",
        "18. **`os`** – version names written inconsistently (e.g., “Lollipop”) *(consistency)*  \n",
        "19. Missing values in **camera, card, os** *(completeness)*  \n",
        "20. **`price`** and **`rating`** stored as strings instead of numeric *(validity)*  \n",
        "\n",
        "---\n",
        "\n",
        "## 🧹 Tidiness Issues  \n",
        "(structure/formatting problems – need splitting or restructuring)\n",
        "\n",
        "1. **`sim`** → split into: `has_5G`, `has_NFC`, `has_IR_Blaster`  \n",
        "2. **`ram`** → split into: `RAM`, `ROM`  \n",
        "3. **`processor`** → split into: `processor_name`, `cores`, `CPU_speed`  \n",
        "4. **`battery`** → split into: `capacity`, `fast_charging_available`, `wattage`  \n",
        "5. **`display`** → split into: `screen_size`, `resolution_width`, `resolution_height`, `refresh_rate`  \n",
        "6. **`camera`** → split into: `rear_camera`, `front_camera`  \n",
        "7. **`card`** → split into: `card_supported`, `max_expandable_storage`  \n",
        "\n",
        "---\n",
        "\n",
        " - some of the phones are not Smart phone they are `FEATURE PHONE`, we are removing those rows\n",
        "\n",
        "🔍 *These issues were identified both manually and programmatically.*\n"
      ],
      "metadata": {
        "id": "Fm4hHVD4Oc_X"
      }
    },
    {
      "cell_type": "code",
      "source": [
        "pd.set_option(\"display.max_rows\", None)   # show all rows"
      ],
      "metadata": {
        "id": "kSf5Gw43OWQC"
      },
      "execution_count": 700,
      "outputs": []
    },
    {
      "cell_type": "code",
      "source": [
        "clean_df = pd.DataFrame()"
      ],
      "metadata": {
        "id": "FwQpsZQzOzSl"
      },
      "execution_count": 701,
      "outputs": []
    },
    {
      "cell_type": "markdown",
      "source": [
        "#### As there are 1000 rows, it difficult to deal with them together, so we will take a bath of 300 and then next batch"
      ],
      "metadata": {
        "id": "aXmn99WXOnz9"
      }
    },
    {
      "cell_type": "markdown",
      "source": [
        "These additional info found inside the `model_name` columns\n",
        "* Parentheses:- ( )\n",
        "\n",
        "RAM + ROM combinations:-\n",
        " - 8GB RAM + 256GB\n",
        " - 6GB RAM + 128GB\n",
        " - 3GB RAM + 6 B\n",
        " - B RAM + 128GB\n",
        " - 12GB RAM + 1TB\n",
        " - 128GB, 256GB. 512GB. 1TB\n",
        " - 6 B + 128GB (or any variant of messy “B RAM + X B/GB/TB”)\n",
        "\n",
        "* Extra spaces:- Multiple consecutive spaces after replacements"
      ],
      "metadata": {
        "id": "nBaXwv-lPzav"
      }
    },
    {
      "cell_type": "code",
      "source": [
        "df = flipkart.copy()"
      ],
      "metadata": {
        "id": "MuQZILC3_6vu"
      },
      "execution_count": 702,
      "outputs": []
    },
    {
      "cell_type": "markdown",
      "source": [
        "# First we deal with CONSISTENCY issue"
      ],
      "metadata": {
        "id": "xT_uG0HvO_JO"
      }
    },
    {
      "cell_type": "markdown",
      "source": [
        "### `brand` column"
      ],
      "metadata": {
        "id": "izMudQCOPBVQ"
      }
    },
    {
      "cell_type": "code",
      "source": [
        "#---- there is extra info present inside (), but after careful examination, it is not useful for model_name and brand_name\n",
        "mask = df['model'].str.contains(\n",
        "    r\"\\((?!.*(?:GB|TB|20[1-2][0-9])).*?\\)\",\n",
        "    regex=True\n",
        ")\n",
        "\n",
        "df_filtered = df.loc[mask, 'model']\n",
        "print(df_filtered)\n"
      ],
      "metadata": {
        "colab": {
          "base_uri": "https://localhost:8080/"
        },
        "collapsed": true,
        "id": "bUXR-OhGWw8s",
        "outputId": "cb784249-533c-4627-ea5e-9835a8fb5731"
      },
      "execution_count": 703,
      "outputs": [
        {
          "output_type": "stream",
          "name": "stdout",
          "text": [
            "754    Apple iPod Touch (7th Gen)\n",
            "829         Infinix Note 12 (G96)\n",
            "Name: model, dtype: object\n"
          ]
        }
      ]
    },
    {
      "cell_type": "code",
      "source": [
        "def extract_brand_and_model(series):\n",
        "    \"\"\"\n",
        "    Extract brand_name (first word) and model_name (rest of string) from a pandas Series.\n",
        "\n",
        "    Cleaning done:\n",
        "    - Remove parentheses containing GB, TB, or years (2019–2029)\n",
        "    - Remove 4G/5G from model names\n",
        "    - Strip extra spaces\n",
        "    Returns two Series: brand_name, model_name\n",
        "    \"\"\"\n",
        "\n",
        "    # --- Extract brand (first word) ---\n",
        "    brand_name = series.str.split().str[0].str.strip().str.title()\n",
        "\n",
        "    # --- Extract model name (remove brand and clean patterns) ---\n",
        "    temp = series.str.split(' ', n=1).str[1].str.strip()  # remove brand\n",
        "\n",
        "    # Remove parentheses containing GB/TB/year\n",
        "    temp = temp.str.replace(r\"\\((?:[^)]*(?:GB|TB|20[1-2][0-9])[^)]*)\\)\", \"\", regex=True).str.strip()\n",
        "\n",
        "    # Remove 4G or 5G\n",
        "    temp = temp.str.replace(r\"\\s*(?:4G|5G)\\b\", \"\", regex=True).str.strip()\n",
        "\n",
        "    # Validation: check if any extra patterns still exist\n",
        "    gb_tb_year_pattern = r\"\\((?:[^)]*(?:GB|TB|20[1-2][0-9])[^)]*)\\)\"\n",
        "    if temp.str.contains(gb_tb_year_pattern, regex=True).any() or temp.str.contains(r\"\\b(?:4G|5G)\\b\", regex=True).any():\n",
        "        raise ValueError(\"There are still extra patterns left in the series!\")\n",
        "\n",
        "    return brand_name, temp\n",
        "\n",
        "\n",
        "   # --- Usage Example ---\n",
        "brand_name, model_name = extract_brand_and_model(df['model'])\n",
        "\n",
        "# Value counts for brands\n",
        "# print(brand_name.value_counts())\n",
        "\n",
        "# Check if any parentheses left in model_name\n",
        "print(model_name[model_name.str.contains(r\"\\([^)]*\\)\", regex=True)])"
      ],
      "metadata": {
        "colab": {
          "base_uri": "https://localhost:8080/"
        },
        "collapsed": true,
        "id": "nXgAXj9LQP4i",
        "outputId": "78697b37-ba75-4829-875f-e4559df5b5ab"
      },
      "execution_count": 704,
      "outputs": [
        {
          "output_type": "stream",
          "name": "stdout",
          "text": [
            "754    iPod Touch (7th Gen)\n",
            "829           Note 12 (G96)\n",
            "Name: model, dtype: object\n"
          ]
        }
      ]
    },
    {
      "cell_type": "code",
      "source": [
        "model_name.count()"
      ],
      "metadata": {
        "colab": {
          "base_uri": "https://localhost:8080/"
        },
        "id": "Kep-nQlMikZ5",
        "outputId": "08456e9b-964b-4cac-febe-35ab0c4d5cc7"
      },
      "execution_count": 705,
      "outputs": [
        {
          "output_type": "execute_result",
          "data": {
            "text/plain": [
              "np.int64(1020)"
            ]
          },
          "metadata": {},
          "execution_count": 705
        }
      ]
    },
    {
      "cell_type": "code",
      "source": [],
      "metadata": {
        "id": "KelWSOsZjZJc"
      },
      "execution_count": 705,
      "outputs": []
    },
    {
      "cell_type": "code",
      "source": [
        "#---- Inserting column back into the df ----\n",
        "df.insert(0,'brand_name',brand_name)\n",
        "df.insert(1,'model_name', model_name)"
      ],
      "metadata": {
        "id": "t6xksnGGhUjT"
      },
      "execution_count": 706,
      "outputs": []
    },
    {
      "cell_type": "markdown",
      "source": [
        "## `os` column\n",
        "\n",
        "after running this fn there are still some issue left, like unnecesssary values, but those values are not present, so we cannot deal with them, we can replace them using some statistical rules."
      ],
      "metadata": {
        "id": "PKF3u5uUg_Gn"
      }
    },
    {
      "cell_type": "code",
      "source": [
        "def clean_extract_os(df, os_col='os', card_col='card'):\n",
        "    \"\"\"\n",
        "    Clean and extract OS name and version from a dataframe.\n",
        "\n",
        "    Steps:\n",
        "    1. Identify rows where the os column has incorrect values (like No, Bluetooth, Memory, Browser, 0.3, 1.3)\n",
        "       and the card column contains valid OS info (Android, OS, iOS, HarmonyOS, Nucleus)\n",
        "    2. Copy valid OS values from card to os at those locations\n",
        "    3. Standardize 'HarmonyOS' to 'Harmony'\n",
        "    4. Split os into os_name and os_version\n",
        "    5. Insert os_name and os_version columns into the dataframe\n",
        "    \"\"\"\n",
        "\n",
        "    # --- Identify rows with invalid os values but valid card info ---\n",
        "    invalid_os_pattern = r'No|Bluetooth|Memory|Browser|0\\.3|1\\.3'\n",
        "    valid_card_pattern = r'Android|OS|iOS|HarmonyOS|Nucleus'\n",
        "\n",
        "    temp_df = df[\n",
        "        df[card_col].str.contains(valid_card_pattern, na=False, case=False) &\n",
        "        df[os_col].str.contains(invalid_os_pattern, regex=True, na=False, case=False)\n",
        "    ]\n",
        "\n",
        "    # --- Update os values from card column where needed ---\n",
        "    df.loc[temp_df.index, os_col] = temp_df[card_col].str.strip().values\n",
        "\n",
        "    # --- Standardize HarmonyOS ---\n",
        "    df[os_col] = df[os_col].str.replace('HarmonyOS', 'Harmony', case=False, regex=True)\n",
        "\n",
        "    # --- Split into os_name and os_version ---\n",
        "    os_name = df[os_col].str.split(' ').str[0]\n",
        "    os_version = df[os_col].str.split(' ').str[1].str.replace('v','', case=False)\n",
        "\n",
        "    # --- Insert new columns ---\n",
        "    df.insert(df.columns.get_loc(os_col)+1, 'os_name', os_name)\n",
        "    df.insert(df.columns.get_loc('os_name')+1, 'os_version', os_version)\n",
        "\n",
        "    return df\n",
        "\n",
        "# --- Usage ---\n",
        "df = clean_extract_os(df)\n",
        "\n"
      ],
      "metadata": {
        "id": "YleX1z3ldQ2P"
      },
      "execution_count": 707,
      "outputs": []
    },
    {
      "cell_type": "markdown",
      "source": [
        "## `price` column :- this column only contains ','. And also converting column into decimal."
      ],
      "metadata": {
        "id": "fkZraloYn1or"
      }
    },
    {
      "cell_type": "code",
      "source": [
        "def clean_price(df, price_col='price'):\n",
        "    \"\"\"\n",
        "    Clean a price column by:\n",
        "    1. Removing any non-numeric characters\n",
        "    2. Converting to float\n",
        "    3. Checking that all values are numeric\n",
        "    \"\"\"\n",
        "    # Remove non-numeric characters\n",
        "    cleaned = df[price_col].astype(str).str.replace(r'[^\\d.]', '', regex=True)\n",
        "\n",
        "    # Check if all values are numbers\n",
        "    if not cleaned.str.replace('.', '', 1).str.isdigit().all():\n",
        "        raise ValueError(f\"Some values in '{price_col}' are not numeric after cleaning!\")\n",
        "\n",
        "    # Convert to float\n",
        "    df[price_col] = cleaned.astype(float)\n",
        "\n",
        "    return df\n",
        "\n",
        "# --- Usage ---\n",
        "df = clean_price(df)\n",
        "\n"
      ],
      "metadata": {
        "id": "afs1vuqmlPeS"
      },
      "execution_count": 708,
      "outputs": []
    },
    {
      "cell_type": "markdown",
      "source": [
        "## `sim` there is multipe information available in this column, like type of network, single/dual sim, Wifi, IR blaster, NFC. So we need to extract that"
      ],
      "metadata": {
        "id": "yqXcUuNHDot3"
      }
    },
    {
      "cell_type": "code",
      "source": [
        "def extract_sim(series):\n",
        "  sim_type = np.where(series.str.contains('Dual Sim'),'Dual','Single')\n",
        "  has_3G = np.where(series.str.contains('3G'),True,False)\n",
        "  has_4G = np.where(series.str.contains('4G'),True,False)\n",
        "  has_5G = np.where(series.str.contains('5G'),True,False)\n",
        "  has_volte = np.where(series.str.contains('VoLTE'),True,False)\n",
        "  has_wifi = np.where(series.str.contains('Wi-Fi'),True,False)\n",
        "  has_nfc = np.where(series.str.contains('NFC'),True,False)\n",
        "  has_ir_blaster = np.where(series.str.contains('IR Blaster'),True,False)\n",
        "\n",
        "  return sim_type,has_3G,has_4G,has_5G,has_volte,has_wifi,has_nfc,has_ir_blaster\n",
        "\n",
        "sim_type,has_3G,has_4G,has_5G,has_volte,has_wifi,has_nfc,has_ir_blaster = extract_sim(df['sim'])\n",
        "\n",
        "# List of new columns and corresponding extracted arrays\n",
        "new_cols = {\n",
        "    'sim_type': sim_type,\n",
        "    'has_3G': has_3G,\n",
        "    'has_4G': has_4G,\n",
        "    'has_5G': has_5G,\n",
        "    'has_volte': has_volte,\n",
        "    'has_wifi': has_wifi,\n",
        "    'has_nfc': has_nfc,\n",
        "    'has_ir_blaster': has_ir_blaster\n",
        "}\n",
        "\n",
        "# Insert each column at the desired positions starting from 5\n",
        "df.insert(5, 'sim_type', sim_type)\n",
        "df.insert(6, 'has_3G', has_3G)\n",
        "df.insert(7, 'has_4G',has_4G,)\n",
        "df.insert(8, 'has_volte',has_volte)\n",
        "df.insert(9,'has_wifi', has_wifi)\n",
        "df.insert(10,'has_nfc', has_nfc)\n",
        "df.insert(11,'has_ir_blaster',has_ir_blaster)\n",
        "\n",
        "\n"
      ],
      "metadata": {
        "collapsed": true,
        "id": "knxLl2M3D9rz"
      },
      "execution_count": 709,
      "outputs": []
    },
    {
      "cell_type": "code",
      "source": [
        "df['sim'][df['sim'].str.contains('Dual Sim')].count()"
      ],
      "metadata": {
        "colab": {
          "base_uri": "https://localhost:8080/"
        },
        "id": "YzxmAR6WD9bV",
        "outputId": "e7f95f2f-1d20-48e6-e48e-02f14fbb3431"
      },
      "execution_count": 711,
      "outputs": [
        {
          "output_type": "execute_result",
          "data": {
            "text/plain": [
              "np.int64(998)"
            ]
          },
          "metadata": {},
          "execution_count": 711
        }
      ]
    },
    {
      "cell_type": "markdown",
      "source": [
        "## `Processor` column: there is a lot info that needed to be extracted, like brand name, number of cores, frequency of the CPU. Also some info of this column is in adjacent column, that needs to be adjusted too."
      ],
      "metadata": {
        "id": "FL1qUargo_v0"
      }
    },
    {
      "cell_type": "markdown",
      "source": [
        "### processor info is leaked into the RAM column, index 532, 611\n"
      ],
      "metadata": {
        "id": "8rEbFZSisk2T"
      }
    },
    {
      "cell_type": "code",
      "source": [
        "df['ram'][df['ram'].str.contains('MHz')]"
      ],
      "metadata": {
        "colab": {
          "base_uri": "https://localhost:8080/",
          "height": 147
        },
        "id": "odfyHwLMcZmC",
        "outputId": "f9c0ab5c-caa5-43da-cf0e-156e8f7ffcc8"
      },
      "execution_count": 712,
      "outputs": [
        {
          "output_type": "execute_result",
          "data": {
            "text/plain": [
              "532    Single Core, 208 MHz Processor\n",
              "611      Dual Core, 500 MHz Processor\n",
              "Name: ram, dtype: object"
            ],
            "text/html": [
              "<div>\n",
              "<style scoped>\n",
              "    .dataframe tbody tr th:only-of-type {\n",
              "        vertical-align: middle;\n",
              "    }\n",
              "\n",
              "    .dataframe tbody tr th {\n",
              "        vertical-align: top;\n",
              "    }\n",
              "\n",
              "    .dataframe thead th {\n",
              "        text-align: right;\n",
              "    }\n",
              "</style>\n",
              "<table border=\"1\" class=\"dataframe\">\n",
              "  <thead>\n",
              "    <tr style=\"text-align: right;\">\n",
              "      <th></th>\n",
              "      <th>ram</th>\n",
              "    </tr>\n",
              "  </thead>\n",
              "  <tbody>\n",
              "    <tr>\n",
              "      <th>532</th>\n",
              "      <td>Single Core, 208 MHz Processor</td>\n",
              "    </tr>\n",
              "    <tr>\n",
              "      <th>611</th>\n",
              "      <td>Dual Core, 500 MHz Processor</td>\n",
              "    </tr>\n",
              "  </tbody>\n",
              "</table>\n",
              "</div><br><label><b>dtype:</b> object</label>"
            ]
          },
          "metadata": {},
          "execution_count": 712
        }
      ]
    },
    {
      "cell_type": "markdown",
      "source": [
        "### Putting that info back into the processor column"
      ],
      "metadata": {
        "id": "cGULtnfGcd3Q"
      }
    },
    {
      "cell_type": "code",
      "source": [
        "index = df['ram'].str.contains('MHz')\n",
        "df.loc[index, 'processor'] = df.loc[index, 'ram']"
      ],
      "metadata": {
        "id": "nUK2UBWhobRi"
      },
      "execution_count": 713,
      "outputs": []
    },
    {
      "cell_type": "markdown",
      "source": [
        "### Checking if processor info is in `sim` column, but none is found"
      ],
      "metadata": {
        "id": "XMo6ciVWbJ_A"
      }
    },
    {
      "cell_type": "code",
      "source": [
        "df['sim'][df['sim'].str.contains('Processor')]"
      ],
      "metadata": {
        "id": "gbbeFoibsUUX",
        "colab": {
          "base_uri": "https://localhost:8080/",
          "height": 84
        },
        "outputId": "3e85f79d-2aac-4bbd-95c5-a48dd2d36587"
      },
      "execution_count": 714,
      "outputs": [
        {
          "output_type": "execute_result",
          "data": {
            "text/plain": [
              "Series([], Name: sim, dtype: object)"
            ],
            "text/html": [
              "<div>\n",
              "<style scoped>\n",
              "    .dataframe tbody tr th:only-of-type {\n",
              "        vertical-align: middle;\n",
              "    }\n",
              "\n",
              "    .dataframe tbody tr th {\n",
              "        vertical-align: top;\n",
              "    }\n",
              "\n",
              "    .dataframe thead th {\n",
              "        text-align: right;\n",
              "    }\n",
              "</style>\n",
              "<table border=\"1\" class=\"dataframe\">\n",
              "  <thead>\n",
              "    <tr style=\"text-align: right;\">\n",
              "      <th></th>\n",
              "      <th>sim</th>\n",
              "    </tr>\n",
              "  </thead>\n",
              "  <tbody>\n",
              "  </tbody>\n",
              "</table>\n",
              "</div><br><label><b>dtype:</b> object</label>"
            ]
          },
          "metadata": {},
          "execution_count": 714
        }
      ]
    },
    {
      "cell_type": "code",
      "source": [
        "def extract_processor_name(series):\n",
        "    \"\"\"\n",
        "    Clean a pandas Series of processor names:\n",
        "    - Normalize spaces and title case\n",
        "    - Remove unwanted prefixes/suffixes (Samsung, 5G)\n",
        "    - Apply mapping for typos and standardization\n",
        "    - Handle special processor naming cases\n",
        "    \"\"\"\n",
        "\n",
        "    # --- Initial normalization ---\n",
        "    series = series.str.split(',').str[0]  # take first part before comma\n",
        "    series = series.str.strip().str.title()\n",
        "    series = series.str.replace(r'\\s+', ' ', regex=True)\n",
        "\n",
        "    # --- Remove \"5G\" suffix ---\n",
        "    series = series.str.replace(r'\\b5G\\b', '', regex=True, flags=re.IGNORECASE).str.strip()\n",
        "\n",
        "    # --- Remove \"Samsung\" prefix ---\n",
        "    series = series.str.replace(r'^Samsung\\s+', '', regex=True, flags=re.IGNORECASE).str.strip()\n",
        "\n",
        "    # --- Mapping replacements for common typos / standardization ---\n",
        "    mapping = {\n",
        "        \"Snapdragon 8 Gen1\": \"Snapdragon 8 Gen1\",\n",
        "        \"Sanpdragon\": \"Snapdragon\",\n",
        "        \"Snapdragon 8+ Gen1\": \"Snapdragon 8+ Gen1\",\n",
        "        \"Snapdragon 8 Gen2\": \"Snapdragon 8 Gen2\",\n",
        "        \"Snapdragon 870\": \"Snapdragon 870\",\n",
        "        \"Snapdragon 888\": \"Snapdragon 888\",\n",
        "        \"Snapdragon 680\": \"Snapdragon 680\",\n",
        "        \"Snapdragon 778G+\": \"Snapdragon 778G Plus\",\n",
        "        \"Snapdragon Qm215\": \"Snapdragon QM215\",\n",
        "        \"Snapdragon 8+ Gen 1\": \"Snapdragon 8+ Gen1\",\n",
        "    }\n",
        "    series = series.replace(mapping)\n",
        "\n",
        "    # --- Special processor fixes ---\n",
        "    special_cases = {\n",
        "        r'(Apple\\s+)?A13(\\s+Bionic)?': \"Bionic A13\",\n",
        "        r'Sc6531E': \"Unisoc Sc6531E\",\n",
        "        r'Dimensity\\s+8100-Max': \"Dimensity 8100 Max\",\n",
        "        r'Snapdragon\\s+Qm215': \"Snapdragon QM215\",\n",
        "        r'Samsung\\s+Exynos\\s+7885': \"Exynos 7885\",\n",
        "        r'Sc9863A': \"Unisoc Sc9863A\",\n",
        "    }\n",
        "\n",
        "    for pattern, replacement in special_cases.items():\n",
        "        series = series.str.replace(f'^{pattern}$', replacement, regex=True, flags=re.IGNORECASE)\n",
        "\n",
        "    # --- Replace '-' with space ---\n",
        "    series = series.str.replace('-', ' ')\n",
        "\n",
        "    # Optional: check for NaN\n",
        "    if series.isna().any():\n",
        "        print(\"Warning: Some processor names are still NaN after cleaning!\")\n",
        "\n",
        "    return series\n",
        "\n"
      ],
      "metadata": {
        "collapsed": true,
        "id": "wr0kTWFCo-8Q"
      },
      "execution_count": 715,
      "outputs": []
    },
    {
      "cell_type": "markdown",
      "source": [
        "#### taking out the core values from processor column"
      ],
      "metadata": {
        "id": "w6QKvpZgc2Ar"
      }
    },
    {
      "cell_type": "code",
      "source": [
        "def extract_cores(series):\n",
        "  \"\"\"\n",
        "   Extracts the number of CPU cores from a pandas Series based on keywords.\n",
        "   Recognizes 'Octa', 'Hexa', 'Quad', and 'Dual' as 8, 6, 4, and 2 cores respectively.\n",
        "   Returns NaN if no keyword is found.\n",
        "  \"\"\"\n",
        "\n",
        "  number_of_cores = np.select(\n",
        "      [\n",
        "          df['processor'].str.contains(\"Octa\"),\n",
        "          df['processor'].str.contains(\"Hexa\"),\n",
        "          df['processor'].str.contains(\"Quad\"),\n",
        "          df['processor'].str.contains(\"Dual\")\n",
        "      ],\n",
        "      [8, 6, 4, 2],\n",
        "      default=np.nan\n",
        "  )\n",
        "  return number_of_cores\n",
        "\n"
      ],
      "metadata": {
        "id": "uyTKKPaXd-xR"
      },
      "execution_count": 716,
      "outputs": []
    },
    {
      "cell_type": "markdown",
      "source": [
        "#### checking for the frequency in processor column. So it contain speed in Ghz, Mhz as well, So we convert the speed into one unit, i.e. GHz. using the formula GHz = MHz/1000"
      ],
      "metadata": {
        "id": "Xswwop0JhbjM"
      }
    },
    {
      "cell_type": "code",
      "source": [
        "def extracting_frequency(series):\n",
        "    \"\"\"\n",
        "    Extracts processor frequencies (GHz or MHz) from a pandas Series.\n",
        "    Converts MHz values to GHz and returns a NumPy array of frequencies.\n",
        "    Rows without a match become NaN.\n",
        "    \"\"\"\n",
        "\n",
        "    pattern = r'([\\d\\.]+)\\s*([GM]Hz)'\n",
        "    # Extract numeric value and unit (GHz or MHz) using regex\n",
        "    freq_data = series.str.extract(pattern)\n",
        "\n",
        "    # Convert to float\n",
        "    freq_values = freq_data[0].astype(float)\n",
        "\n",
        "    # Convert MHz to GHz using vectorized np.where\n",
        "    freq_values = np.where(freq_data[1] == 'MHz', freq_values / 1000, freq_values)\n",
        "\n",
        "    return freq_values\n",
        "\n",
        "\n"
      ],
      "metadata": {
        "id": "7dsXnahdjGQc"
      },
      "execution_count": 717,
      "outputs": []
    },
    {
      "cell_type": "code",
      "source": [
        "#----- CALLING SEPRATE Fn TO CLEAN & EXTRACT INFO FROM PROCESSOR COLUMN  ----\n",
        "processor_name = extract_processor_name(df['processor'])\n",
        "number_of_cores = extract_cores(df['processor'])\n",
        "speed_of_processor = extracting_frequency(df['processor'])"
      ],
      "metadata": {
        "id": "DhvFHutQ3bTU"
      },
      "execution_count": 718,
      "outputs": []
    },
    {
      "cell_type": "code",
      "source": [
        "#---- PUTTING INFO BACK INTO COLUMN ----\n",
        "df.insert(14,'processor_name', processor_name)\n",
        "df.insert(15,'number_of_cores', number_of_cores)\n",
        "df.insert(16,'speed_of_processor(GHz)', speed_of_processor)"
      ],
      "metadata": {
        "id": "GMBS_yhafuS2"
      },
      "execution_count": 720,
      "outputs": []
    },
    {
      "cell_type": "markdown",
      "source": [
        "### 'ram' column: This column contains memory values in both GB and MB, along with some extraneous or non-standard entries. It includes information for both RAM and ROM, which need to be separated."
      ],
      "metadata": {
        "id": "0581-pPM8azm"
      }
    },
    {
      "cell_type": "markdown",
      "source": [
        "### Some data of ram column is in `battery` column, brining it back into `ram` column"
      ],
      "metadata": {
        "id": "dKdhEf5R-gcw"
      }
    },
    {
      "cell_type": "code",
      "source": [
        "df['battery'][df['battery'].str.contains('GB|MB')]"
      ],
      "metadata": {
        "colab": {
          "base_uri": "https://localhost:8080/",
          "height": 303
        },
        "id": "fTEB7q9BQzzx",
        "outputId": "bfd34edc-c4aa-4245-ce5a-5db224753d5c"
      },
      "execution_count": 722,
      "outputs": [
        {
          "output_type": "execute_result",
          "data": {
            "text/plain": [
              "376     48 MB RAM, 128 MB inbuilt\n",
              "551     64 MB RAM, 128 MB inbuilt\n",
              "582     48 MB RAM, 128 MB inbuilt\n",
              "611      32 MB RAM, 32 MB inbuilt\n",
              "817     48 MB RAM, 128 MB inbuilt\n",
              "882     48 MB RAM, 128 MB inbuilt\n",
              "1000     32 MB RAM, 32 MB inbuilt\n",
              "Name: battery, dtype: object"
            ],
            "text/html": [
              "<div>\n",
              "<style scoped>\n",
              "    .dataframe tbody tr th:only-of-type {\n",
              "        vertical-align: middle;\n",
              "    }\n",
              "\n",
              "    .dataframe tbody tr th {\n",
              "        vertical-align: top;\n",
              "    }\n",
              "\n",
              "    .dataframe thead th {\n",
              "        text-align: right;\n",
              "    }\n",
              "</style>\n",
              "<table border=\"1\" class=\"dataframe\">\n",
              "  <thead>\n",
              "    <tr style=\"text-align: right;\">\n",
              "      <th></th>\n",
              "      <th>battery</th>\n",
              "    </tr>\n",
              "  </thead>\n",
              "  <tbody>\n",
              "    <tr>\n",
              "      <th>376</th>\n",
              "      <td>48 MB RAM, 128 MB inbuilt</td>\n",
              "    </tr>\n",
              "    <tr>\n",
              "      <th>551</th>\n",
              "      <td>64 MB RAM, 128 MB inbuilt</td>\n",
              "    </tr>\n",
              "    <tr>\n",
              "      <th>582</th>\n",
              "      <td>48 MB RAM, 128 MB inbuilt</td>\n",
              "    </tr>\n",
              "    <tr>\n",
              "      <th>611</th>\n",
              "      <td>32 MB RAM, 32 MB inbuilt</td>\n",
              "    </tr>\n",
              "    <tr>\n",
              "      <th>817</th>\n",
              "      <td>48 MB RAM, 128 MB inbuilt</td>\n",
              "    </tr>\n",
              "    <tr>\n",
              "      <th>882</th>\n",
              "      <td>48 MB RAM, 128 MB inbuilt</td>\n",
              "    </tr>\n",
              "    <tr>\n",
              "      <th>1000</th>\n",
              "      <td>32 MB RAM, 32 MB inbuilt</td>\n",
              "    </tr>\n",
              "  </tbody>\n",
              "</table>\n",
              "</div><br><label><b>dtype:</b> object</label>"
            ]
          },
          "metadata": {},
          "execution_count": 722
        }
      ]
    },
    {
      "cell_type": "code",
      "source": [
        "def extract_memory(series):\n",
        "    \"\"\"\n",
        "    Fix misplaced RAM values from 'battery' column\n",
        "    and extract RAM and ROM from the 'ram' column.\n",
        "\n",
        "    Returns two Series: ram, rom\n",
        "    \"\"\"\n",
        "    # ---- Step 1: Bring misplaced values back from 'battery' to 'ram'\n",
        "    index = df['battery'][df['battery'].str.contains('GB|MB', na=False)].index\n",
        "    df.loc[index, 'ram'] = df.loc[index, 'battery']\n",
        "\n",
        "    # ---- Step 2: Extract RAM (before 'GB RAM')\n",
        "    ram = df['ram'].str.extract(r'(\\d+)\\s*GB\\s*RAM')[0].astype(float)\n",
        "\n",
        "    # ---- Step 3: Extract ROM (before 'GB inbuilt')\n",
        "    rom = df['ram'].str.extract(r'(\\d+)\\s*GB\\s*inbuilt')[0].astype(float)\n",
        "\n",
        "    return ram, rom\n",
        "\n",
        "\n",
        "# Usage\n",
        "ram, rom = extract_memory(df['battery'])\n",
        "df.insert(18,'ram_extracted', ram)\n",
        "df.insert(19,'rom_extracted', rom)"
      ],
      "metadata": {
        "id": "AiAJo6cyA9LW"
      },
      "execution_count": 724,
      "outputs": []
    },
    {
      "cell_type": "markdown",
      "source": [
        "### `battery` column, this contain three info battery capacity, battery wattage and fast charging info"
      ],
      "metadata": {
        "id": "f-B5oH9AQIXV"
      }
    },
    {
      "cell_type": "code",
      "source": [
        "df['battery'].str.contains('Battery').sum()"
      ],
      "metadata": {
        "colab": {
          "base_uri": "https://localhost:8080/"
        },
        "id": "P7Hn8RbRSs68",
        "outputId": "9c73c870-b896-41ae-8eff-a0b4c9dd5d18"
      },
      "execution_count": 726,
      "outputs": [
        {
          "output_type": "execute_result",
          "data": {
            "text/plain": [
              "np.int64(987)"
            ]
          },
          "metadata": {},
          "execution_count": 726
        }
      ]
    },
    {
      "cell_type": "code",
      "source": [
        "# #---- checking if accidently battery column info ended up in adjacent column.i.e. ram and battery ----\n",
        "# #---- after carefully looking, battery column has this word 'Battery' in nearly all rows, so chcking this into next column ----\n",
        "index_battery = df['display'][df['display'].str.contains('Battery')].index\n",
        "df.loc[index_battery,'battery'] = df.loc[index_battery,'display']\n",
        "\n",
        "index_ram = df['ram'][df['ram'].str.contains('Battery')].index\n",
        "df.loc[index_ram,'battery'] = df.loc[index_ram,'ram']\n"
      ],
      "metadata": {
        "id": "qetYUnUFCmbh"
      },
      "execution_count": 727,
      "outputs": []
    },
    {
      "cell_type": "code",
      "source": [
        "def extract_battery(series):\n",
        "  battery_capacity = series.str.split().str[0]\n",
        "  wattage = series.str.extract(r'(\\d+)\\s*W')[0].astype(float)\n",
        "  fast_charging = np.where(series.str.contains('Fast Charging'), 'Yes', 'No')\n",
        "\n",
        "  return battery_capacity, wattage, fast_charging\n",
        "\n",
        "battery_capacity, wattage, fast_charging = extract_battery(df['battery'])\n",
        "\n",
        "df.insert(21,'battery_capacity', battery_capacity)\n",
        "df.insert(22,'wattage', wattage)\n",
        "df.insert(23,'fast_charging', fast_charging)\n",
        "\n",
        "\n"
      ],
      "metadata": {
        "id": "c7yxxRC1bOzg"
      },
      "execution_count": 729,
      "outputs": []
    },
    {
      "cell_type": "markdown",
      "source": [
        "### `display` column, this contain four info, size of screen, pixels, refersh rate and info about pucnh hole\n"
      ],
      "metadata": {
        "id": "v7BpPfNejynE"
      }
    },
    {
      "cell_type": "code",
      "source": [
        "df['display'].str.contains('inches', na=False).sum()"
      ],
      "metadata": {
        "colab": {
          "base_uri": "https://localhost:8080/"
        },
        "id": "2wJGrVaXlgLC",
        "outputId": "5cbffb84-a420-4f13-e75d-95d595593e9a"
      },
      "execution_count": 730,
      "outputs": [
        {
          "output_type": "execute_result",
          "data": {
            "text/plain": [
              "np.int64(987)"
            ]
          },
          "metadata": {},
          "execution_count": 730
        }
      ]
    },
    {
      "cell_type": "code",
      "source": [
        "index= df['camera'][df['camera'].str.contains('inches', na=False)].index\n",
        "df.loc[index,'display'] = df.loc[index,'camera']\n",
        "\n",
        "index = df['battery'][df['battery'].str.contains('inches', na=False)].index\n",
        "df.loc[index,'display'] = df.loc[index,'battery']\n"
      ],
      "metadata": {
        "id": "TBs6shsbcHPd"
      },
      "execution_count": 731,
      "outputs": []
    },
    {
      "cell_type": "code",
      "source": [
        "df['display'].str.contains('inches', na=False).sum()"
      ],
      "metadata": {
        "colab": {
          "base_uri": "https://localhost:8080/"
        },
        "id": "uoHbjUqJlGAK",
        "outputId": "72574969-b21d-4e7c-80c2-f8aae6059ab8"
      },
      "execution_count": 732,
      "outputs": [
        {
          "output_type": "execute_result",
          "data": {
            "text/plain": [
              "np.int64(1005)"
            ]
          },
          "metadata": {},
          "execution_count": 732
        }
      ]
    },
    {
      "cell_type": "code",
      "source": [
        "def extract_display_info(series):\n",
        "  screen_size = series.str.split(',').str[0].str.split(' ').str[0]\n",
        "  resolution = series.str.extract(r'(\\d+\\s*[x×]\\s*\\d+)\\s*px')[0]\n",
        "  refresh_rate = series.str.extract(r'(\\d+)\\s*Hz')[0].astype(float)\n",
        "  design = series.str.extract(r'(Punch Hole|Water Drop)', flags=re.IGNORECASE)[0]\n",
        "\n",
        "  return screen_size,resolution, refresh_rate, design\n",
        "\n",
        "screen_size,resolution, refresh_rate, design = extract_display_info(df['display'])\n",
        "\n",
        "df.insert(25,'screen_size', screen_size)\n",
        "df.insert(26,'resolution', resolution)\n",
        "df.insert(27,'refresh_rate', refresh_rate)\n",
        "df.insert(28,'design', design)"
      ],
      "metadata": {
        "id": "gMxZhDrEopI0"
      },
      "execution_count": 734,
      "outputs": []
    },
    {
      "cell_type": "markdown",
      "source": [
        "### `camera column`: This column contains information about both the rear and front cameras, including details on the number of cameras (e.g., dual, triple, quad) and their respective specifications."
      ],
      "metadata": {
        "id": "TnuH-yjpqIZ_"
      }
    },
    {
      "cell_type": "code",
      "source": [
        "df['camera'].str.contains('MP').sum()"
      ],
      "metadata": {
        "colab": {
          "base_uri": "https://localhost:8080/"
        },
        "id": "t4d6Etjkrizz",
        "outputId": "40b5db86-1af9-4dfe-b7a0-6ac1cd14554e"
      },
      "execution_count": 737,
      "outputs": [
        {
          "output_type": "execute_result",
          "data": {
            "text/plain": [
              "954"
            ]
          },
          "metadata": {},
          "execution_count": 737
        }
      ]
    },
    {
      "cell_type": "code",
      "source": [
        "index = df['card'][df['card'].str.contains('MP',na=False)].index\n",
        "df.loc[index,'camera'] = df.loc[index,'card']\n",
        "\n",
        "index = df['display'][df['display'].str.contains('MP',na=False)].index\n",
        "df.loc[index,'camera'] = df.loc[index,'display']"
      ],
      "metadata": {
        "id": "7Xy-u5JfqIAU"
      },
      "execution_count": 738,
      "outputs": []
    },
    {
      "cell_type": "code",
      "source": [
        "def extract_camera_info(series):\n",
        "    \"\"\"\n",
        "    Extract rear camera specs, front camera specs, and camera type (Dual/Triple/Quad)\n",
        "    from a pandas Series containing camera description.\n",
        "\n",
        "    Parameters\n",
        "    ----------\n",
        "    series : pd.Series\n",
        "        Text column containing camera info (e.g., '64 MP Quad Rear & 16 MP Front Camera').\n",
        "\n",
        "    Returns\n",
        "    -------\n",
        "    rear_camera : pd.Series\n",
        "        Rear camera megapixels as string (e.g., '64+2+2').\n",
        "    front_camera : pd.Series\n",
        "        Front camera megapixels as string (e.g., '16').\n",
        "    camera_type : pd.Series\n",
        "        Camera type as string ('Dual', 'Triple', 'Quad').\n",
        "    \"\"\"\n",
        "    # Extract rear camera numbers (handles multiple cameras separated by +)\n",
        "    rear_camera = series.str.extract(r'([\\d+\\s*MP\\+?]+)\\s*(Dual|Triple|Quad)\\s*Rear')[0]\n",
        "    rear_camera = rear_camera.str.replace(r'\\s*MP', '', regex=True).str.replace(r'\\s+', '', regex=True)\n",
        "\n",
        "    # Extract camera type (Dual, Triple, Quad)\n",
        "    camera_type = series.str.extract(r'(Dual|Triple|Quad)\\s*Rear')[0]\n",
        "\n",
        "    # Extract front camera number\n",
        "    front_camera = series.str.extract(r'([\\d+\\s*MP]+)\\s*Front')[0]\n",
        "    front_camera = front_camera.str.replace(r'\\s*MP', '', regex=True).str.replace(r'\\s+', '', regex=True)\n",
        "\n",
        "    return camera_type, rear_camera, front_camera\n",
        "\n",
        "camera_type, rear_camera, front_camera = extract_camera_info(df['camera'])\n",
        "\n",
        "#---- exracting camera type ----\n",
        "rear_camera1 = rear_camera.str.split('+').str[0]\n",
        "rear_camera2 = rear_camera.str.split('+').str[1]\n",
        "rear_camera3 = rear_camera.str.split('+').str[2]"
      ],
      "metadata": {
        "id": "IHDCmhQAsrKi"
      },
      "execution_count": 739,
      "outputs": []
    },
    {
      "cell_type": "code",
      "source": [
        "df.insert(30,'camera_type', camera_type)\n",
        "df.insert(31,'rear_camera1', rear_camera1)\n",
        "df.insert(32,'rear_camera2', rear_camera2)\n",
        "df.insert(33,'rear_camera3', rear_camera3)\n",
        "df.insert(34,'front_camera', front_camera)"
      ],
      "metadata": {
        "id": "xA1Wv7CYtSjg"
      },
      "execution_count": 741,
      "outputs": []
    },
    {
      "cell_type": "markdown",
      "source": [
        "### `card` column contain info related to weather it contain memory card or not, also what kind of memory card is it."
      ],
      "metadata": {
        "id": "CcztnXqGnCqv"
      }
    },
    {
      "cell_type": "code",
      "source": [
        "df['card'].str.contains('Memory').sum()"
      ],
      "metadata": {
        "colab": {
          "base_uri": "https://localhost:8080/"
        },
        "id": "N-z5uhTbrtnY",
        "outputId": "8baf319a-199a-4224-e8d4-1e8883d4eb42"
      },
      "execution_count": 743,
      "outputs": [
        {
          "output_type": "execute_result",
          "data": {
            "text/plain": [
              "741"
            ]
          },
          "metadata": {},
          "execution_count": 743
        }
      ]
    },
    {
      "cell_type": "code",
      "source": [
        "index = df['os'][df['os'].str.contains('Memory', na=False)].index\n",
        "df.loc[index,'card'] = df.loc[index,'os']\n",
        "\n",
        "index = df['camera'][df['camera'].str.contains('Memory', na=False)].index\n",
        "df.loc[index,'card'] = df.loc[index,'camera']"
      ],
      "metadata": {
        "id": "DxsZgNsJuTOL"
      },
      "execution_count": 744,
      "outputs": []
    },
    {
      "cell_type": "code",
      "source": [
        "df['card'][df['card'].str.contains('Not', na=False)].count()\n"
      ],
      "metadata": {
        "colab": {
          "base_uri": "https://localhost:8080/"
        },
        "id": "-VenkXULscJA",
        "outputId": "66afada6-7c68-431f-c2e0-87d22dc28ef0"
      },
      "execution_count": 745,
      "outputs": [
        {
          "output_type": "execute_result",
          "data": {
            "text/plain": [
              "np.int64(129)"
            ]
          },
          "metadata": {},
          "execution_count": 745
        }
      ]
    },
    {
      "cell_type": "code",
      "source": [
        "def extract_card(series):\n",
        "    \"\"\"\n",
        "    Extract memory card support info:\n",
        "    - Whether card is supported or not\n",
        "    - Whether it is hybrid\n",
        "    - Capacity in GB (standardized, 0 if not supported)\n",
        "    \"\"\"\n",
        "    # Card supported or not\n",
        "    card_supported = np.where(series.str.contains('Not', na=False), 'No', 'Yes')\n",
        "\n",
        "    # Hybrid slot\n",
        "    card_hybrid = np.where(series.str.contains('Hybrid', na=False), 'Yes', 'No')\n",
        "\n",
        "    # Extract number + unit (GB or TB)\n",
        "    capacity = series.str.extract(r'(\\d+)\\s*(GB|TB)', expand=True)\n",
        "\n",
        "    # Convert numeric part to float\n",
        "    values = capacity[0].astype(float)\n",
        "\n",
        "    # Standardize: convert TB → GB, leave GB unchanged\n",
        "    memory_card_capacity = np.where(capacity[1] == 'TB', values * 1024, values)\n",
        "\n",
        "    # Force 0 capacity if card is not supported\n",
        "    memory_card_capacity = np.where(card_supported == 'No', 0, memory_card_capacity)\n",
        "\n",
        "    return card_supported, card_hybrid,memory_card_capacity\n",
        "\n",
        "df['card_supported'], df['card_hybrid'], df['memory_card_capacity'] = extract_card(df['card'])"
      ],
      "metadata": {
        "id": "gEBjrtjEse9S"
      },
      "execution_count": 746,
      "outputs": []
    },
    {
      "cell_type": "code",
      "source": [
        "df = df.drop(['model', 'rating', 'sim', 'processor', 'ram', 'battery',\n",
        "       'display', 'camera', 'card', 'os'], axis=1)"
      ],
      "metadata": {
        "collapsed": true,
        "id": "I0ankYRB4j0O"
      },
      "execution_count": 748,
      "outputs": []
    },
    {
      "cell_type": "code",
      "source": [
        "df.to_csv(\"output.csv\", index=False, encoding=\"utf-8\")"
      ],
      "metadata": {
        "id": "uAIBIU6cvj67"
      },
      "execution_count": 749,
      "outputs": []
    },
    {
      "cell_type": "code",
      "source": [
        "df.info()"
      ],
      "metadata": {
        "colab": {
          "base_uri": "https://localhost:8080/"
        },
        "id": "pmr_g3dWENG0",
        "outputId": "dc226906-e4d5-4587-9692-e6cb218f0b57"
      },
      "execution_count": 750,
      "outputs": [
        {
          "output_type": "stream",
          "name": "stdout",
          "text": [
            "<class 'pandas.core.frame.DataFrame'>\n",
            "RangeIndex: 1020 entries, 0 to 1019\n",
            "Data columns (total 32 columns):\n",
            " #   Column                   Non-Null Count  Dtype  \n",
            "---  ------                   --------------  -----  \n",
            " 0   brand_name               1020 non-null   object \n",
            " 1   model_name               1020 non-null   object \n",
            " 2   price                    1020 non-null   float64\n",
            " 3   sim_type                 1020 non-null   object \n",
            " 4   has_3G                   1020 non-null   bool   \n",
            " 5   has_4G                   1020 non-null   bool   \n",
            " 6   has_volte                1020 non-null   bool   \n",
            " 7   has_wifi                 1020 non-null   bool   \n",
            " 8   has_nfc                  1020 non-null   bool   \n",
            " 9   has_ir_blaster           1020 non-null   bool   \n",
            " 10  processor_name           1020 non-null   object \n",
            " 11  number_of_cores          980 non-null    float64\n",
            " 12  speed_of_processor(GHz)  950 non-null    float64\n",
            " 13  ram_extracted            979 non-null    float64\n",
            " 14  rom_extracted            979 non-null    float64\n",
            " 15  battery_capacity         1020 non-null   object \n",
            " 16  wattage                  769 non-null    float64\n",
            " 17  fast_charging            1020 non-null   object \n",
            " 18  screen_size              1020 non-null   object \n",
            " 19  resolution               1005 non-null   object \n",
            " 20  refresh_rate             612 non-null    float64\n",
            " 21  design                   848 non-null    object \n",
            " 22  camera_type              906 non-null    object \n",
            " 23  rear_camera1             906 non-null    object \n",
            " 24  rear_camera2             693 non-null    object \n",
            " 25  rear_camera3             521 non-null    object \n",
            " 26  front_camera             969 non-null    object \n",
            " 27  os_name                  1003 non-null   object \n",
            " 28  os_version               991 non-null    object \n",
            " 29  card_supported           1020 non-null   object \n",
            " 30  card_hybrid              1020 non-null   object \n",
            " 31  memory_card_capacity     657 non-null    float64\n",
            "dtypes: bool(6), float64(8), object(18)\n",
            "memory usage: 213.3+ KB\n"
          ]
        }
      ]
    }
  ]
}