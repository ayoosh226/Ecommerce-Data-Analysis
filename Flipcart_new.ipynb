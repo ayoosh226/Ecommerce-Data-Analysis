{
  "nbformat": 4,
  "nbformat_minor": 0,
  "metadata": {
    "colab": {
      "provenance": [],
      "authorship_tag": "ABX9TyN8Qadbv9z6c/q+okMwNoFl"
    },
    "kernelspec": {
      "name": "python3",
      "display_name": "Python 3"
    },
    "language_info": {
      "name": "python"
    }
  },
  "cells": [
    {
      "cell_type": "code",
      "execution_count": null,
      "metadata": {
        "id": "sgkFehL6_QBl"
      },
      "outputs": [],
      "source": [
        "import pandas as pd\n",
        "import numpy as np\n",
        "import re"
      ]
    },
    {
      "cell_type": "code",
      "source": [
        "flipkart= pd.read_csv('/content/smartphones - smartphones.csv')"
      ],
      "metadata": {
        "id": "CiYw56q9_YaT"
      },
      "execution_count": null,
      "outputs": []
    },
    {
      "cell_type": "code",
      "source": [
        "flipkart_clean = pd.DataFrame()"
      ],
      "metadata": {
        "id": "-E1Upz-XiDug"
      },
      "execution_count": null,
      "outputs": []
    },
    {
      "cell_type": "markdown",
      "source": [
        "# Summary for data\n",
        "\n",
        "This smart mobile phones dataset contains 1,021 rows and 11 columns, providing detailed specifications of smartphones from multiple brands. The dataset covers essential aspects such as model, price, ratings, SIM and network support, processor details, RAM and storage, battery capacity, display specifications, camera configurations, memory card support, and operating system version. It offers a structured snapshot of smartphone features and pricing,"
      ],
      "metadata": {
        "id": "PRR4TgXjOXfO"
      }
    },
    {
      "cell_type": "markdown",
      "source": [
        "# Column Descriptions\n",
        "\n",
        "1. `model`:- Name of the smartphone, including brand and series/model.\n",
        "2. `price`:- Price of the phone (in INR).\n",
        "3. `raing`:- Overall customer rating of the phone (out of 100).\n",
        "4. `sim`:- Information about SIM support, network types (3G/4G/5G), VoLTE, Wi-Fi, NFC, and connectivity options.\n",
        "5. `processor`:- Details about the chipset, number of cores, and clock speed of the processor.\n",
        "6. `ram`:- Information on RAM size and inbuilt storage (ROM).\n",
        "7. `battery`:- Battery capacity (mAh), charging speed (watts), and fast-charging support.\n",
        "8. `display`:- Display size, resolution, refresh rate, and type of notch/punch-hole.\n",
        "9. `camera`:- Camera setup including rear and front cameras with megapixel details.\n",
        "10. `card`:- Memory card support availability and maximum expandable storage.\n",
        "11. `os`:-Operating system version of the device (e.g., Android v13, iOS v16).\n"
      ],
      "metadata": {
        "id": "5zhy-v6KOYb8"
      }
    },
    {
      "cell_type": "markdown",
      "source": [
        "# 📊 Data Assessing\n",
        "\n",
        "---\n",
        "\n",
        "## ✅ Quality Issues  \n",
        "(problems with accuracy, completeness, validity, consistency)\n",
        "\n",
        "1. **`model`** – brand names written in inconsistent formats, *(consistency)*  \n",
        "2. **`price`** – contains unnecessary **₹** symbol *(validity)*  \n",
        "3. **`price`** – contains commas in numeric values *(validity)*  \n",
        "4. **`price`** – outlier value (e.g., Namotel listed at ₹99) *(accuracy)*  \n",
        "5. **`rating`** – missing values *(completeness)*  \n",
        "6. **`processor`** – incorrect values for some Samsung phones (rows: 642, 647, 649, …) *(validity)*  \n",
        "7. Non-phone device (`iPod`, row 756) present *(validity)*  \n",
        "8. **`ram`** – incorrect values in multiple rows *(validity)*  \n",
        "9. **`battery`** – incorrect or incomplete values in multiple rows *(validity)*  \n",
        "10. **`display`** – sometimes refresh rate missing *(completeness)*  \n",
        "11. **`display`** – incorrect values in multiple rows *(validity)*  \n",
        "12. Foldable phones have scattered or inconsistent info *(validity)*  \n",
        "13. **`camera`** – uses inconsistent words (“Dual”, “Triple”, “Quad”), front & rear separated by **&** *(consistency)*  \n",
        "14. **`camera`** – incorrect values in many rows *(validity)*  \n",
        "15. **`card`** – sometimes contains info about OS or Camera *(validity)*  \n",
        "16. **`os`** – sometimes contains info about Bluetooth/FM radio *(validity)*  \n",
        "17. **`os`** – incorrect values in rows (324, 378) *(validity)*  \n",
        "18. **`os`** – version names written inconsistently (e.g., “Lollipop”) *(consistency)*  \n",
        "19. Missing values in **camera, card, os** *(completeness)*  \n",
        "20. **`price`** and **`rating`** stored as strings instead of numeric *(validity)*  \n",
        "\n",
        "---\n",
        "\n",
        "## 🧹 Tidiness Issues  \n",
        "(structure/formatting problems – need splitting or restructuring)\n",
        "\n",
        "1. **`sim`** → split into: `has_5G`, `has_NFC`, `has_IR_Blaster`  \n",
        "2. **`ram`** → split into: `RAM`, `ROM`  \n",
        "3. **`processor`** → split into: `processor_name`, `cores`, `CPU_speed`  \n",
        "4. **`battery`** → split into: `capacity`, `fast_charging_available`, `wattage`  \n",
        "5. **`display`** → split into: `screen_size`, `resolution_width`, `resolution_height`, `refresh_rate`  \n",
        "6. **`camera`** → split into: `rear_camera`, `front_camera`  \n",
        "7. **`card`** → split into: `card_supported`, `max_expandable_storage`  \n",
        "\n",
        "---\n",
        "\n",
        " - some of the phones are not Smart phone they are `FEATURE PHONE`, we are removing those rows\n",
        "\n",
        "🔍 *These issues were identified both manually and programmatically.*\n"
      ],
      "metadata": {
        "id": "Fm4hHVD4Oc_X"
      }
    },
    {
      "cell_type": "code",
      "source": [
        "pd.set_option(\"display.max_rows\", None)   # show all rows"
      ],
      "metadata": {
        "id": "kSf5Gw43OWQC"
      },
      "execution_count": null,
      "outputs": []
    },
    {
      "cell_type": "code",
      "source": [
        "clean_df = pd.DataFrame()"
      ],
      "metadata": {
        "id": "FwQpsZQzOzSl"
      },
      "execution_count": null,
      "outputs": []
    },
    {
      "cell_type": "markdown",
      "source": [
        "#### As there are 1000 rows, it difficult to deal with them together, so we will take a bath of 300 and then next batch"
      ],
      "metadata": {
        "id": "aXmn99WXOnz9"
      }
    },
    {
      "cell_type": "markdown",
      "source": [
        "These additional info found inside the `model_name` columns\n",
        "* Parentheses:- ( )\n",
        "\n",
        "RAM + ROM combinations:-\n",
        " - 8GB RAM + 256GB\n",
        " - 6GB RAM + 128GB\n",
        " - 3GB RAM + 6 B\n",
        " - B RAM + 128GB\n",
        " - 12GB RAM + 1TB\n",
        " - 128GB, 256GB. 512GB. 1TB\n",
        " - 6 B + 128GB (or any variant of messy “B RAM + X B/GB/TB”)\n",
        "\n",
        "* Extra spaces:- Multiple consecutive spaces after replacements"
      ],
      "metadata": {
        "id": "nBaXwv-lPzav"
      }
    },
    {
      "cell_type": "code",
      "source": [
        "df = flipkart.copy()"
      ],
      "metadata": {
        "id": "MuQZILC3_6vu"
      },
      "execution_count": null,
      "outputs": []
    },
    {
      "cell_type": "markdown",
      "source": [
        "# First we deal with CONSISTENCY issue"
      ],
      "metadata": {
        "id": "xT_uG0HvO_JO"
      }
    },
    {
      "cell_type": "markdown",
      "source": [
        "### `brand` column"
      ],
      "metadata": {
        "id": "izMudQCOPBVQ"
      }
    },
    {
      "cell_type": "code",
      "source": [
        "#---- there is extra info present inside (), but after careful examination, it is not useful for model_name and brand_name\n",
        "mask = df['model'].str.contains(\n",
        "    r\"\\((?!.*(?:GB|TB|20[1-2][0-9])).*?\\)\",\n",
        "    regex=True\n",
        ")\n",
        "\n",
        "df_filtered = df.loc[mask, 'model']\n",
        "print(df_filtered)\n"
      ],
      "metadata": {
        "colab": {
          "base_uri": "https://localhost:8080/"
        },
        "collapsed": true,
        "id": "bUXR-OhGWw8s",
        "outputId": "85459cad-9b23-43f6-fa5a-ec5f0b040490"
      },
      "execution_count": null,
      "outputs": [
        {
          "output_type": "stream",
          "name": "stdout",
          "text": [
            "754    Apple iPod Touch (7th Gen)\n",
            "829         Infinix Note 12 (G96)\n",
            "Name: model, dtype: object\n"
          ]
        }
      ]
    },
    {
      "cell_type": "code",
      "source": [
        "def extract_brand_and_model(series):\n",
        "    \"\"\"\n",
        "    Extract brand_name (first word) and model_name (rest of string) from a pandas Series.\n",
        "\n",
        "    Cleaning done:\n",
        "    - Remove parentheses containing GB, TB, or years (2019–2029)\n",
        "    - Remove 4G/5G from model names\n",
        "    - Strip extra spaces\n",
        "    Returns two Series: brand_name, model_name\n",
        "    \"\"\"\n",
        "\n",
        "    # --- Extract brand (first word) ---\n",
        "    brand_name = series.str.split().str[0].str.strip().str.title()\n",
        "\n",
        "    # --- Extract model name (remove brand and clean patterns) ---\n",
        "    temp = series.str.split(' ', n=1).str[1].str.strip()  # remove brand\n",
        "\n",
        "    # Remove parentheses containing GB/TB/year\n",
        "    temp = temp.str.replace(r\"\\((?:[^)]*(?:GB|TB|20[1-2][0-9])[^)]*)\\)\", \"\", regex=True).str.strip()\n",
        "\n",
        "    # Remove 4G or 5G\n",
        "    temp = temp.str.replace(r\"\\s*(?:4G|5G)\\b\", \"\", regex=True).str.strip()\n",
        "\n",
        "    # Validation: check if any extra patterns still exist\n",
        "    gb_tb_year_pattern = r\"\\((?:[^)]*(?:GB|TB|20[1-2][0-9])[^)]*)\\)\"\n",
        "    if temp.str.contains(gb_tb_year_pattern, regex=True).any() or temp.str.contains(r\"\\b(?:4G|5G)\\b\", regex=True).any():\n",
        "        raise ValueError(\"There are still extra patterns left in the series!\")\n",
        "\n",
        "    return brand_name, temp\n",
        "\n",
        "\n",
        "   # --- Usage Example ---\n",
        "brand_name, model_name = extract_brand_and_model(df['model'])\n",
        "\n",
        "# Value counts for brands\n",
        "# print(brand_name.value_counts())\n",
        "\n",
        "# Check if any parentheses left in model_name\n",
        "print(model_name[model_name.str.contains(r\"\\([^)]*\\)\", regex=True)])"
      ],
      "metadata": {
        "colab": {
          "base_uri": "https://localhost:8080/"
        },
        "collapsed": true,
        "id": "nXgAXj9LQP4i",
        "outputId": "5a977692-95fd-4ddf-8508-6605a2592efe"
      },
      "execution_count": null,
      "outputs": [
        {
          "output_type": "stream",
          "name": "stdout",
          "text": [
            "754    iPod Touch (7th Gen)\n",
            "829           Note 12 (G96)\n",
            "Name: model, dtype: object\n"
          ]
        }
      ]
    },
    {
      "cell_type": "code",
      "source": [
        "model_name.count()"
      ],
      "metadata": {
        "colab": {
          "base_uri": "https://localhost:8080/"
        },
        "id": "Kep-nQlMikZ5",
        "outputId": "fec30c2f-499c-462b-821e-30ce808ab550"
      },
      "execution_count": null,
      "outputs": [
        {
          "output_type": "execute_result",
          "data": {
            "text/plain": [
              "np.int64(1020)"
            ]
          },
          "metadata": {},
          "execution_count": 9
        }
      ]
    },
    {
      "cell_type": "code",
      "source": [],
      "metadata": {
        "id": "KelWSOsZjZJc"
      },
      "execution_count": null,
      "outputs": []
    },
    {
      "cell_type": "code",
      "source": [
        "#---- Inserting column back into the df ----\n",
        "df.insert(0,'brand_name',brand_name)\n",
        "df.insert(1,'model_name', model_name)"
      ],
      "metadata": {
        "id": "t6xksnGGhUjT"
      },
      "execution_count": null,
      "outputs": []
    },
    {
      "cell_type": "markdown",
      "source": [
        "## `os` column\n",
        "\n",
        "after running this fn there are still some issue left, like unnecesssary values, but those values are not present, so we cannot deal with them, we can replace them using some statistical rules."
      ],
      "metadata": {
        "id": "PKF3u5uUg_Gn"
      }
    },
    {
      "cell_type": "code",
      "source": [
        "def clean_extract_os(df, os_col='os', card_col='card'):\n",
        "    \"\"\"\n",
        "    Clean and extract OS name and version from a dataframe.\n",
        "\n",
        "    Steps:\n",
        "    1. Identify rows where the os column has incorrect values (like No, Bluetooth, Memory, Browser, 0.3, 1.3)\n",
        "       and the card column contains valid OS info (Android, OS, iOS, HarmonyOS, Nucleus)\n",
        "    2. Copy valid OS values from card to os at those locations\n",
        "    3. Standardize 'HarmonyOS' to 'Harmony'\n",
        "    4. Split os into os_name and os_version\n",
        "    5. Insert os_name and os_version columns into the dataframe\n",
        "    \"\"\"\n",
        "\n",
        "    # --- Identify rows with invalid os values but valid card info ---\n",
        "    invalid_os_pattern = r'No|Bluetooth|Memory|Browser|0\\.3|1\\.3'\n",
        "    valid_card_pattern = r'Android|OS|iOS|HarmonyOS|Nucleus'\n",
        "\n",
        "    temp_df = df[\n",
        "        df[card_col].str.contains(valid_card_pattern, na=False, case=False) &\n",
        "        df[os_col].str.contains(invalid_os_pattern, regex=True, na=False, case=False)\n",
        "    ]\n",
        "\n",
        "    # --- Update os values from card column where needed ---\n",
        "    df.loc[temp_df.index, os_col] = temp_df[card_col].str.strip().values\n",
        "\n",
        "    # --- Standardize HarmonyOS ---\n",
        "    df[os_col] = df[os_col].str.replace('HarmonyOS', 'Harmony', case=False, regex=True)\n",
        "\n",
        "    # --- Split into os_name and os_version ---\n",
        "    os_name = df[os_col].str.split(' ').str[0]\n",
        "    os_version = df[os_col].str.split(' ').str[1].str.replace('v','', case=False)\n",
        "\n",
        "    # --- Insert new columns ---\n",
        "    df.insert(df.columns.get_loc(os_col)+1, 'os_name', os_name)\n",
        "    df.insert(df.columns.get_loc('os_name')+1, 'os_version', os_version)\n",
        "\n",
        "    return df\n",
        "\n",
        "# --- Usage ---\n",
        "df = clean_extract_os(df)\n",
        "\n"
      ],
      "metadata": {
        "id": "YleX1z3ldQ2P"
      },
      "execution_count": null,
      "outputs": []
    },
    {
      "cell_type": "markdown",
      "source": [
        "## `price` column :- this column only contains ','. And also converting column into decimal."
      ],
      "metadata": {
        "id": "fkZraloYn1or"
      }
    },
    {
      "cell_type": "code",
      "source": [
        "def clean_price(df, price_col='price'):\n",
        "    \"\"\"\n",
        "    Clean a price column by:\n",
        "    1. Removing any non-numeric characters\n",
        "    2. Converting to float\n",
        "    3. Checking that all values are numeric\n",
        "    \"\"\"\n",
        "    # Remove non-numeric characters\n",
        "    cleaned = df[price_col].astype(str).str.replace(r'[^\\d.]', '', regex=True)\n",
        "\n",
        "    # Check if all values are numbers\n",
        "    if not cleaned.str.replace('.', '', 1).str.isdigit().all():\n",
        "        raise ValueError(f\"Some values in '{price_col}' are not numeric after cleaning!\")\n",
        "\n",
        "    # Convert to float\n",
        "    df[price_col] = cleaned.astype(float)\n",
        "\n",
        "    return df\n",
        "\n",
        "# --- Usage ---\n",
        "df = clean_price(df)\n",
        "\n"
      ],
      "metadata": {
        "id": "afs1vuqmlPeS"
      },
      "execution_count": null,
      "outputs": []
    },
    {
      "cell_type": "markdown",
      "source": [
        "## `Processor` column: there is a lot info that needed to be extracted, like brand name, number of cores, frequency of the CPU. Also some info of this column is in adjacent column, that needs to be adjusted too."
      ],
      "metadata": {
        "id": "FL1qUargo_v0"
      }
    },
    {
      "cell_type": "code",
      "source": [
        "import pandas as pd\n",
        "import re\n",
        "\n",
        "def clean_processor_series(series):\n",
        "    \"\"\"\n",
        "    Clean a pandas Series of processor names:\n",
        "    - Normalize spaces and title case\n",
        "    - Fix typos (Sanpdragon → Snapdragon)\n",
        "    - Apply custom mapping\n",
        "    - Handle special processor naming cases\n",
        "    \"\"\"\n",
        "\n",
        "    # --- Initial normalization ---\n",
        "    series = series.str.split(',').str[0].str.strip()\n",
        "    series = series.str.strip().str.title()\n",
        "    series = series.str.replace(r'\\s+', ' ', regex=True)\n",
        "\n",
        "    # --- Mapping replacements ---\n",
        "    mapping = {\n",
        "        \"Snapdragon 8 Gen1\": \"Snapdragon 8 Gen1\",\n",
        "        \"Sanpdragon\" : \"Snapdragon\",\n",
        "        \"Snapdragon 8+ Gen1\": \"Snapdragon 8+ Gen1\",\n",
        "        \"Snapdragon 8 Gen2\": \"Snapdragon 8 Gen2\",\n",
        "        \"Snapdragon 870\": \"Snapdragon 870\",\n",
        "        \"Snapdragon 888\": \"Snapdragon 888\",\n",
        "        \"Snapdragon 680\": \"Snapdragon 680\",\n",
        "        \"Snapdragon 778G+\": \"Snapdragon 778G Plus\",\n",
        "        \"Snapdragon Qm215\": \"Snapdragon QM215\",\n",
        "        \"Snapdragon 8+ Gen 1\": \"Snapdragon 8+ Gen1\",\n",
        "    }\n",
        "    series = series.replace(mapping)\n",
        "\n",
        "    # --- Define row-wise cleaning function ---\n",
        "    def clean_processor(name):\n",
        "        if pd.isna(name):\n",
        "            return name\n",
        "\n",
        "        # Normalize spaces again\n",
        "        name = re.sub(r'\\s+', ' ', name).strip()\n",
        "\n",
        "        # Remove \"5G\" suffix\n",
        "        name = re.sub(r'\\b5G\\b', '', name, flags=re.IGNORECASE).strip()\n",
        "\n",
        "        # Remove \"Samsung\" prefix\n",
        "        name = re.sub(r'^Samsung\\s+', '', name, flags=re.IGNORECASE).strip()\n",
        "\n",
        "        # Special processor fixes\n",
        "        special_cases = {\n",
        "            r'(Apple\\s+)?A13(\\s+Bionic)?': \"Bionic A13\",\n",
        "            r'Sc6531E': \"Unisoc Sc6531E\",\n",
        "            r'Dimensity\\s+8100-Max': \"Dimensity 8100 Max\",\n",
        "            r'Snapdragon\\s+Qm215': \"Snapdragon QM215\",\n",
        "            r'Samsung\\s+Exynos\\s+7885': \"Exynos 7885\",\n",
        "            r'Sc9863A': \"Unisoc Sc9863A\",\n",
        "        }\n",
        "\n",
        "        for pattern, replacement in special_cases.items():\n",
        "            if re.fullmatch(pattern, name, flags=re.IGNORECASE):\n",
        "                name = replacement\n",
        "                break\n",
        "\n",
        "        # Replace '-' with space\n",
        "        name = name.replace('-', ' ')\n",
        "\n",
        "        return name\n",
        "\n",
        "    # Apply cleaning function\n",
        "    cleaned_series = series.apply(clean_processor)\n",
        "\n",
        "    # Optional check: confirm no empty strings\n",
        "    if cleaned_series.isna().any():\n",
        "        print(\"Warning: Some processor names are still NaN after cleaning!\")\n",
        "\n",
        "    return cleaned_series\n",
        "\n",
        "# --- Usage ---\n",
        "processor_clean = clean_processor_series(df['processor'])\n",
        "print(processor_clean.value_counts())\n"
      ],
      "metadata": {
        "colab": {
          "base_uri": "https://localhost:8080/"
        },
        "collapsed": true,
        "id": "wr0kTWFCo-8Q",
        "outputId": "3dc969b5-f912-4508-ae2e-1d91f4863325"
      },
      "execution_count": null,
      "outputs": [
        {
          "output_type": "stream",
          "name": "stdout",
          "text": [
            "processor\n",
            "Snapdragon 695             53\n",
            "Snapdragon 680             43\n",
            "Dimensity 700              39\n",
            "Snapdragon 8+ Gen1         39\n",
            "Snapdragon 8 Gen1          36\n",
            "Helio P35                  31\n",
            "Dimensity 810              30\n",
            "Snapdragon 8 Gen2          26\n",
            "Snapdragon 870             23\n",
            "Snapdragon 888             23\n",
            "Snapdragon 778G            21\n",
            "Helio G96                  21\n",
            "Helio G35                  20\n",
            "Bionic A15                 18\n",
            "Helio G85                  18\n",
            "Helio G99                  17\n",
            "Helio G80                  14\n",
            "Dimensity 920              13\n",
            "Helio G25                  13\n",
            "Snapdragon 865             13\n",
            "Bionic A16                 12\n",
            "Dimensity 1080             12\n",
            "Snapdragon 778G Plus       12\n",
            "Snapdragon 720G            12\n",
            "Helio G37                  12\n",
            "Unisoc Sc9863A             11\n",
            "Helio G95                  11\n",
            "Dimensity 1300             11\n",
            "Dimensity 900              10\n",
            "Helio A22                  10\n",
            "Exynos 850                  9\n",
            "No Wifi                     9\n",
            "Octa Core Processor         9\n",
            "Helio G88                   9\n",
            "Snapdragon 765G             9\n",
            "Dimensity 8100 Max          9\n",
            "Tiger T612                  9\n",
            "Snapdragon 7 Gen1           9\n",
            "Exynos 1280                 8\n",
            "Snapdragon 732G             8\n",
            "Bionic A14                  8\n",
            "Helio P22                   8\n",
            "Unisoc T606                 7\n",
            "Dimensity 8100              7\n",
            "Snapdragon 888+             7\n",
            "Dimensity 8200              7\n",
            "Exynos 990                  7\n",
            "Snapdragon 4 Gen 1          6\n",
            "Bionic A13                  6\n",
            "Exynos 2100                 6\n",
            "Dimensity 9000 Plus         6\n",
            "Quad Core                   6\n",
            "Dimensity 800U              6\n",
            "Dimensity 9000              6\n",
            "Snapdragon 480+             5\n",
            "Tiger T616                  5\n",
            "Google Tensor               5\n",
            "Octa Core                   5\n",
            "Dimensity 1200              5\n",
            "Snapdragon 439              5\n",
            "Dimensity 720               4\n",
            "Exynos 1330                 4\n",
            "Snapdragon 750G             4\n",
            "No 3G                       4\n",
            "Snapdragon 665              4\n",
            "Snapdragon 662              4\n",
            "Snapdragon 480              4\n",
            "Dimensity 930               4\n",
            "Dimensity 9200              4\n",
            "Tiger T610                  4\n",
            "Snapdragon 6 Gen 1          3\n",
            "4 Mb Ram                    3\n",
            "Exynos 9825                 3\n",
            "Tiger T310                  3\n",
            "Snapdragon 845              3\n",
            "Unisoc T610                 3\n",
            "Snapdragon 460              3\n",
            "Snapdragon 712              3\n",
            "Qualcomm 215                3\n",
            "Kirin 990                   3\n",
            "Snapdragon 690              3\n",
            "Exynos 9611                 3\n",
            "Helio P60                   3\n",
            "Snapdragon 675              3\n",
            "Helio G70                   2\n",
            "Unisoc T612                 2\n",
            "Snapdragon 855+             2\n",
            "Helio P95                   2\n",
            "Exynos 9810                 2\n",
            "Snapdragon 730G             2\n",
            "Unisoc T117                 2\n",
            "1 Gb Ram                    2\n",
            "Snapdragon 855              2\n",
            "Exynos 9820                 2\n",
            "Google Tensor G2            2\n",
            "Helio                       2\n",
            "Snapdragon 678              2\n",
            "Snapdragon 425              2\n",
            "Google Tensor 3             2\n",
            "Helio P70                   2\n",
            "Helio G90T                  2\n",
            "1.77 Mhz Processor          2\n",
            "Exynos 7885                 2\n",
            "Spreadtrum Sc9832E          2\n",
            "Snapdragon 615              1\n",
            "Tiger T606                  1\n",
            "Snapdragon 801              1\n",
            "Snapdragon 860              1\n",
            "Bionic A17                  1\n",
            "Helio Mt6580                1\n",
            "Snapdragon 775              1\n",
            "Spreadtrum Sc7731E          1\n",
            "Dual Core                   1\n",
            "Snapdragon 730              1\n",
            "Snapdragon 205              1\n",
            "Unisoc Sc9836A              1\n",
            "Snapdragon 8+ Gen 2         1\n",
            "Unisoc                      1\n",
            "Dimensity 1200 Max          1\n",
            "Tiger T7150                 1\n",
            "Snapdragon QM215            1\n",
            "Tiger T700                  1\n",
            "Exynos 1200                 1\n",
            "Exynos 2300                 1\n",
            "Exynos 1380                 1\n",
            "Snapdragon 810              1\n",
            "1 Ghz Processor             1\n",
            "Kirin 9000                  1\n",
            "1450 Mah Battery            1\n",
            "Fusion Apl1024              1\n",
            "Snapdragon 210              1\n",
            "Snapdragon 835              1\n",
            "Sanpdragon 680              1\n",
            "Snapdragon Msm8909          1\n",
            "Unisoc Sc9832E              1\n",
            "Helio A25                   1\n",
            "Kirin 9000E                 1\n",
            "Dimensity 8100 Ultra        1\n",
            "Snapdragon 782G             1\n",
            "32 Mb Ram                   1\n",
            "Helio Mt6260A               1\n",
            "Exynos 7904                 1\n",
            "800 Mah Battery             1\n",
            "Dimensity 1100              1\n",
            "52 Mb Ram                   1\n",
            "32 Gb Inbuilt               1\n",
            "2000 Mah Battery            1\n",
            "Unisoc Sc6531E              1\n",
            "(28 Nm)                     1\n",
            "Unisoc Sc7731E              1\n",
            "Spreadtrum Sc7731           1\n",
            "Helio P65                   1\n",
            "Kirin 810                   1\n",
            "Kirin 659                   1\n",
            "Qualcomm Snapdragon 670     1\n",
            "Qualcomm Snapdragon 625     1\n",
            "Single Core                 1\n",
            "Snapdragon 7 Gen2           1\n",
            "Dimensity 1000+             1\n",
            "Helio P23                   1\n",
            "256 Mb Ram                  1\n",
            "Snapdragon Msm8939          1\n",
            "48 Mb Ram                   1\n",
            "Unisoc A55                  1\n",
            "Snapdragon 450              1\n",
            "8 Mb Ram                    1\n",
            "Snapdragon 710              1\n",
            "Name: count, dtype: int64\n"
          ]
        }
      ]
    },
    {
      "cell_type": "code",
      "source": [],
      "metadata": {
        "id": "uMvina-4skQc"
      },
      "execution_count": null,
      "outputs": []
    },
    {
      "cell_type": "markdown",
      "source": [
        "### processor info is leaked into the RAM column, index 532, 611\n"
      ],
      "metadata": {
        "id": "8rEbFZSisk2T"
      }
    },
    {
      "cell_type": "code",
      "source": [
        "df['ram'][df['ram'].str.contains('MHz')]"
      ],
      "metadata": {
        "colab": {
          "base_uri": "https://localhost:8080/",
          "height": 147
        },
        "id": "nUK2UBWhobRi",
        "outputId": "b959d86b-1c7c-464d-a418-fed7412c5754"
      },
      "execution_count": null,
      "outputs": [
        {
          "output_type": "execute_result",
          "data": {
            "text/plain": [
              "532    Single Core, 208 MHz Processor\n",
              "611      Dual Core, 500 MHz Processor\n",
              "Name: ram, dtype: object"
            ],
            "text/html": [
              "<div>\n",
              "<style scoped>\n",
              "    .dataframe tbody tr th:only-of-type {\n",
              "        vertical-align: middle;\n",
              "    }\n",
              "\n",
              "    .dataframe tbody tr th {\n",
              "        vertical-align: top;\n",
              "    }\n",
              "\n",
              "    .dataframe thead th {\n",
              "        text-align: right;\n",
              "    }\n",
              "</style>\n",
              "<table border=\"1\" class=\"dataframe\">\n",
              "  <thead>\n",
              "    <tr style=\"text-align: right;\">\n",
              "      <th></th>\n",
              "      <th>ram</th>\n",
              "    </tr>\n",
              "  </thead>\n",
              "  <tbody>\n",
              "    <tr>\n",
              "      <th>532</th>\n",
              "      <td>Single Core, 208 MHz Processor</td>\n",
              "    </tr>\n",
              "    <tr>\n",
              "      <th>611</th>\n",
              "      <td>Dual Core, 500 MHz Processor</td>\n",
              "    </tr>\n",
              "  </tbody>\n",
              "</table>\n",
              "</div><br><label><b>dtype:</b> object</label>"
            ]
          },
          "metadata": {},
          "execution_count": 15
        }
      ]
    },
    {
      "cell_type": "code",
      "source": [],
      "metadata": {
        "id": "gbbeFoibsUUX"
      },
      "execution_count": null,
      "outputs": []
    }
  ]
}